{
 "cells": [
  {
   "cell_type": "markdown",
   "id": "5df145d5",
   "metadata": {},
   "source": [
    "# import"
   ]
  },
  {
   "cell_type": "code",
   "execution_count": 1,
   "id": "ac260d1d",
   "metadata": {},
   "outputs": [],
   "source": [
    "import pandas as pd\n",
    "import numpy as np\n",
    "import matplotlib.pyplot as plt\n",
    "import seaborn as sns\n",
    "import random\n",
    "from scipy import stats\n",
    "from math import ceil\n",
    "import statsmodels.api as sm\n",
    "import pylab\n",
    "import warnings\n",
    "from tqdm import tqdm_notebook\n",
    "warnings.filterwarnings(\"ignore\")\n",
    "sns.set(rc={'figure.figsize':(11.7,8.27)})\n",
    "\n",
    "%matplotlib inline"
   ]
  },
  {
   "cell_type": "markdown",
   "id": "d8df720b",
   "metadata": {},
   "source": [
    "# data generation"
   ]
  },
  {
   "cell_type": "code",
   "execution_count": 240,
   "id": "0ecf2169",
   "metadata": {},
   "outputs": [
    {
     "data": {
      "text/html": [
       "<div>\n",
       "<style scoped>\n",
       "    .dataframe tbody tr th:only-of-type {\n",
       "        vertical-align: middle;\n",
       "    }\n",
       "\n",
       "    .dataframe tbody tr th {\n",
       "        vertical-align: top;\n",
       "    }\n",
       "\n",
       "    .dataframe thead th {\n",
       "        text-align: right;\n",
       "    }\n",
       "</style>\n",
       "<table border=\"1\" class=\"dataframe\">\n",
       "  <thead>\n",
       "    <tr style=\"text-align: right;\">\n",
       "      <th></th>\n",
       "      <th>purchases</th>\n",
       "      <th>strata</th>\n",
       "    </tr>\n",
       "  </thead>\n",
       "  <tbody>\n",
       "    <tr>\n",
       "      <th>0</th>\n",
       "      <td>1617</td>\n",
       "      <td>potential</td>\n",
       "    </tr>\n",
       "    <tr>\n",
       "      <th>1</th>\n",
       "      <td>365</td>\n",
       "      <td>potential</td>\n",
       "    </tr>\n",
       "    <tr>\n",
       "      <th>2</th>\n",
       "      <td>1888</td>\n",
       "      <td>potential</td>\n",
       "    </tr>\n",
       "    <tr>\n",
       "      <th>3</th>\n",
       "      <td>1361</td>\n",
       "      <td>potential</td>\n",
       "    </tr>\n",
       "    <tr>\n",
       "      <th>4</th>\n",
       "      <td>642</td>\n",
       "      <td>potential</td>\n",
       "    </tr>\n",
       "  </tbody>\n",
       "</table>\n",
       "</div>"
      ],
      "text/plain": [
       "   purchases     strata\n",
       "0       1617  potential\n",
       "1        365  potential\n",
       "2       1888  potential\n",
       "3       1361  potential\n",
       "4        642  potential"
      ]
     },
     "execution_count": 240,
     "metadata": {},
     "output_type": "execute_result"
    }
   ],
   "source": [
    "population_size = 20000\n",
    "potential_weight, potential_mu = 0.6, 1700                \n",
    "regular_weight, regular_mu = 0.4, 2450\n",
    "potential_size = int(potential_weight * population_size)  \n",
    "regular_size = int(regular_weight * population_size)      \n",
    "\n",
    "\n",
    "potential_dist = pd.DataFrame({'purchases' : np.random.exponential(scale=potential_mu, size=potential_size),\n",
    "                               'strata' : 'potential'})\n",
    "\n",
    "regular_dist = pd.DataFrame({'purchases' : np.random.exponential(scale=regular_mu, size=regular_size),\n",
    "                               'strata' : 'regular'})\n",
    "\n",
    "\n",
    "pooled_data = pd.concat([potential_dist, regular_dist]).reset_index().drop('index', axis=1)\n",
    "pooled_data['purchases'] = pooled_data['purchases'].astype('int')\n",
    "\n",
    "pooled_data.head()"
   ]
  },
  {
   "cell_type": "code",
   "execution_count": 241,
   "id": "02208698",
   "metadata": {},
   "outputs": [
    {
     "data": {
      "text/html": [
       "<div>\n",
       "<style scoped>\n",
       "    .dataframe tbody tr th:only-of-type {\n",
       "        vertical-align: middle;\n",
       "    }\n",
       "\n",
       "    .dataframe tbody tr th {\n",
       "        vertical-align: top;\n",
       "    }\n",
       "\n",
       "    .dataframe thead tr th {\n",
       "        text-align: left;\n",
       "    }\n",
       "\n",
       "    .dataframe thead tr:last-of-type th {\n",
       "        text-align: right;\n",
       "    }\n",
       "</style>\n",
       "<table border=\"1\" class=\"dataframe\">\n",
       "  <thead>\n",
       "    <tr>\n",
       "      <th></th>\n",
       "      <th colspan=\"3\" halign=\"left\">purchases</th>\n",
       "    </tr>\n",
       "    <tr>\n",
       "      <th></th>\n",
       "      <th>mean</th>\n",
       "      <th>var</th>\n",
       "      <th>count</th>\n",
       "    </tr>\n",
       "    <tr>\n",
       "      <th>strata</th>\n",
       "      <th></th>\n",
       "      <th></th>\n",
       "      <th></th>\n",
       "    </tr>\n",
       "  </thead>\n",
       "  <tbody>\n",
       "    <tr>\n",
       "      <th>potential</th>\n",
       "      <td>1731.545167</td>\n",
       "      <td>3.016136e+06</td>\n",
       "      <td>12000</td>\n",
       "    </tr>\n",
       "    <tr>\n",
       "      <th>regular</th>\n",
       "      <td>2426.291000</td>\n",
       "      <td>5.986707e+06</td>\n",
       "      <td>8000</td>\n",
       "    </tr>\n",
       "  </tbody>\n",
       "</table>\n",
       "</div>"
      ],
      "text/plain": [
       "             purchases                     \n",
       "                  mean           var  count\n",
       "strata                                     \n",
       "potential  1731.545167  3.016136e+06  12000\n",
       "regular    2426.291000  5.986707e+06   8000"
      ]
     },
     "execution_count": 241,
     "metadata": {},
     "output_type": "execute_result"
    }
   ],
   "source": [
    "pooled_data.groupby('strata').agg(['mean', 'var', 'count'])"
   ]
  },
  {
   "cell_type": "code",
   "execution_count": 243,
   "id": "78a012e8",
   "metadata": {},
   "outputs": [],
   "source": [
    "def ttest(a,b):\n",
    "    \n",
    "    a_mu, b_mu = np.mean(a), np.mean(b)\n",
    "    a_var, b_var = np.var(a), np.var(b)\n",
    "    \n",
    "    delta_mu = b_mu - a_mu\n",
    "    pooled_var = a_var / len(a) + b_var / len(b)\n",
    "    \n",
    "    T_statistic = delta_mu / np.sqrt(pooled_var)\n",
    "    pvalue = (1 - stats.norm.cdf(abs(T_statistic))) * 2\n",
    "    \n",
    "    return pvalue, delta_mu"
   ]
  },
  {
   "cell_type": "markdown",
   "id": "eb8116b1",
   "metadata": {},
   "source": [
    "# AA test on existing data and checking p-value distribution under H0"
   ]
  },
  {
   "cell_type": "code",
   "execution_count": 247,
   "id": "d11721dc",
   "metadata": {},
   "outputs": [
    {
     "name": "stdout",
     "output_type": "stream",
     "text": [
      "1-st type error: 0.053\n"
     ]
    },
    {
     "data": {
      "image/png": "[encoded data removed]",
      "text/plain": [
       "<Figure size 842.4x595.44 with 2 Axes>"
      ]
     },
     "metadata": {},
     "output_type": "display_data"
    }
   ],
   "source": [
    "sns.set(rc={'figure.figsize':(11.7,8.27)})\n",
    "\n",
    "\n",
    "N = 1000\n",
    "first_type_error_random = []\n",
    "random_delta_AA = []\n",
    "alpha = 0.05\n",
    "mde = 100\n",
    "\n",
    "\n",
    "for i in range(N):\n",
    "    \n",
    "    control, treatment = np.random.choice(pooled_data['purchases'], (2, 500), replace=False)\n",
    "    pvalue, delta = ttest(control, treatment)\n",
    "    first_type_error_random.append(pvalue)\n",
    "    random_delta_AA.append(delta)\n",
    "\n",
    "print(f'1-st type error: {(pd.Series(first_type_error_random) < alpha).sum() / N}')\n",
    "\n",
    "\n",
    "fig, axes = plt.subplots(1,2)\n",
    "sns.histplot(first_type_error_random, ax=axes[0]).set_title('pvalue distribution')\n",
    "sns.histplot(random_delta_AA, kde=True,ax=axes[1]).set_title('mean difference')\n",
    "plt.show()"
   ]
  },
  {
   "cell_type": "code",
   "execution_count": 248,
   "id": "67513f3e",
   "metadata": {},
   "outputs": [
    {
     "data": {
      "image/png": "[encoded data removed]",
      "text/plain": [
       "<Figure size 864x432 with 1 Axes>"
      ]
     },
     "metadata": {},
     "output_type": "display_data"
    }
   ],
   "source": [
    "plt.figure(figsize=(12,6))\n",
    "stats.probplot(first_type_error, dist=\"uniform\", plot=pylab)\n",
    "plt.show()"
   ]
  },
  {
   "cell_type": "markdown",
   "id": "a0148262",
   "metadata": {},
   "source": [
    "## it turns out main assumptions are met to use the t-test:\n",
    " - target metric is distributed normaly\n",
    " - p-value distribution under H0 is uniform and it control probability of I type error\n",
    " "
   ]
  },
  {
   "cell_type": "code",
   "execution_count": null,
   "id": "582a5acb",
   "metadata": {},
   "outputs": [],
   "source": []
  },
  {
   "cell_type": "markdown",
   "id": "f5fdaaeb",
   "metadata": {},
   "source": [
    "# sample size evaluation per group"
   ]
  },
  {
   "cell_type": "code",
   "execution_count": 249,
   "id": "850686d1",
   "metadata": {},
   "outputs": [],
   "source": [
    "def get_sample_size(control_var, treatment_var, alpha=0.05, beta=0.3, mde=100):\n",
    "    \n",
    "    Z_alpha = stats.norm.ppf(1 - alpha/2)\n",
    "    Z_beta = stats.norm.ppf(1 - beta)\n",
    "    sample_size = int(np.ceil((Z_alpha + Z_beta)**2 * (control_var + treatment_var) / (mde**2)))\n",
    "    \n",
    "    return sample_size"
   ]
  },
  {
   "cell_type": "code",
   "execution_count": 253,
   "id": "df36496c",
   "metadata": {},
   "outputs": [
    {
     "name": "stdout",
     "output_type": "stream",
     "text": [
      "sample size per group : 5333\n"
     ]
    }
   ],
   "source": [
    "population_mean, population_var = np.mean(pooled_data), np.var(pooled_data)\n",
    "expected_mean, expected_var = population_mean + mde, population_var\n",
    "\n",
    "sample_size = get_sample_size(population_var, expected_var)\n",
    "print(f'sample size per group : {sample_size}')"
   ]
  },
  {
   "cell_type": "markdown",
   "id": "922af52e",
   "metadata": {},
   "source": [
    "# checking that at received sample size we will have previosly denoted probability of II type error  "
   ]
  },
  {
   "cell_type": "code",
   "execution_count": 255,
   "id": "02485a20",
   "metadata": {},
   "outputs": [
    {
     "name": "stdout",
     "output_type": "stream",
     "text": [
      "II type error : 0.29\n"
     ]
    }
   ],
   "source": [
    "second_type_error_random = []\n",
    "\n",
    "for i in range(N):\n",
    "    \n",
    "    control = np.random.exponential(scale=population_mean, size=sample_size)\n",
    "    treatment = np.random.exponential(scale=expected_mean, size=sample_size)\n",
    "    pvalue, _ = ttest(control, treatment)\n",
    "    second_type_error_random.append(pvalue >= alpha)\n",
    "    \n",
    "print(f'II type error : {np.mean(second_type_error_random)}')"
   ]
  },
  {
   "cell_type": "code",
   "execution_count": null,
   "id": "45a34d1a",
   "metadata": {},
   "outputs": [],
   "source": []
  },
  {
   "cell_type": "code",
   "execution_count": null,
   "id": "fd3e8dcd",
   "metadata": {},
   "outputs": [],
   "source": []
  },
  {
   "cell_type": "markdown",
   "id": "88e3b84b",
   "metadata": {},
   "source": [
    "# simple random sampling"
   ]
  },
  {
   "cell_type": "code",
   "execution_count": 258,
   "id": "652a54fe",
   "metadata": {},
   "outputs": [],
   "source": [
    "def get_random_sampling(mde=0):\n",
    "    \n",
    "    control, treatment = np.random.choice(pooled_data['purchases'], (2, sample_size), replace=False)\n",
    "    treatment = treatment + mde\n",
    "    \n",
    "    return control, treatment"
   ]
  },
  {
   "cell_type": "markdown",
   "id": "1759bf85",
   "metadata": {},
   "source": [
    "# A/B with random sampling"
   ]
  },
  {
   "cell_type": "code",
   "execution_count": 264,
   "id": "d853cbb3",
   "metadata": {},
   "outputs": [
    {
     "name": "stdout",
     "output_type": "stream",
     "text": [
      "II type error at random sampling : 0.305\n"
     ]
    }
   ],
   "source": [
    "second_type_error_random = []\n",
    "random_delta_AB = []\n",
    "\n",
    "for i in range (N):\n",
    "    \n",
    "    control, treatment = get_random_sampling(mde)\n",
    "    pvalue, delta = ttest(control, treatment)\n",
    "    \n",
    "    second_type_error_random.append(pvalue >= alpha)\n",
    "    random_delta_AB.append(delta)\n",
    "    \n",
    "print(f'II type error at random sampling : {np.mean(second_type_error_random)}')"
   ]
  },
  {
   "cell_type": "code",
   "execution_count": null,
   "id": "1907dba7",
   "metadata": {},
   "outputs": [],
   "source": []
  },
  {
   "cell_type": "code",
   "execution_count": null,
   "id": "85c0e335",
   "metadata": {},
   "outputs": [],
   "source": []
  },
  {
   "cell_type": "markdown",
   "id": "7bede337",
   "metadata": {},
   "source": [
    "# stratified sampling"
   ]
  },
  {
   "cell_type": "code",
   "execution_count": 265,
   "id": "915b9b46",
   "metadata": {},
   "outputs": [],
   "source": [
    "def get_stratified_sample(strats_param, mde=0):\n",
    "    \n",
    "    control, treatment = pd.DataFrame(), pd.DataFrame()\n",
    "\n",
    "    for strata, (size, data) in strats_param.items():\n",
    "\n",
    "        control = control.append(pd.DataFrame({'strata' : strata,\n",
    "                                           'purchases' : data.sample(size, replace = False)}))\n",
    "\n",
    "        treatment = treatment.append(pd.DataFrame({'strata' : strata,\n",
    "                                               'purchases' : data.sample(size, replace = False)}))\n",
    "\n",
    "\n",
    "    treatment['purchases'] = treatment['purchases'] + mde\n",
    "\n",
    "    return control, treatment"
   ]
  },
  {
   "cell_type": "code",
   "execution_count": 267,
   "id": "9cb2c443",
   "metadata": {},
   "outputs": [],
   "source": [
    "N_potential = int(potential_weight * sample_size)\n",
    "N_regular = int(regular_weight * sample_size)\n",
    "\n",
    "potential_data = pooled_data[pooled_data['strata'] == 'potential']['purchases']\n",
    "regular_data = pooled_data[pooled_data['strata'] == 'regular']['purchases']\n",
    "\n",
    "strats_param = {'potential' : (N_potential, potential_data),\n",
    "                'regular' : (N_regular, regular_data)}"
   ]
  },
  {
   "cell_type": "markdown",
   "id": "04a2ec3c",
   "metadata": {},
   "source": [
    "# A/A with stratified sampling"
   ]
  },
  {
   "cell_type": "code",
   "execution_count": 268,
   "id": "aa96a6dc",
   "metadata": {},
   "outputs": [
    {
     "data": {
      "application/vnd.jupyter.widget-view+json": {
       "model_id": "6fe93beaf8df4142a7cf556d4c6c7894",
       "version_major": 2,
       "version_minor": 0
      },
      "text/plain": [
       "  0%|          | 0/1000 [00:00<?, ?it/s]"
      ]
     },
     "metadata": {},
     "output_type": "display_data"
    },
    {
     "name": "stdout",
     "output_type": "stream",
     "text": [
      "I second type error at stratified sampling : 0.017\n"
     ]
    }
   ],
   "source": [
    "first_type_error_stratified = []\n",
    "stratified_delta_AA = []\n",
    "\n",
    "\n",
    "for i in tqdm_notebook(range(N)):\n",
    "   \n",
    "    control, treatment = get_stratified_sample(strats_param)\n",
    "    pvalue, delta = ttest(control['purchases'], treatment['purchases'])\n",
    "    \n",
    "    first_type_error_stratified.append(pvalue < alpha)\n",
    "    delta_list_statified.append(delta)\n",
    "                                       \n",
    "print(f'I second type error at stratified sampling : {np.mean(first_type_error_stratified)}')"
   ]
  },
  {
   "cell_type": "markdown",
   "id": "63cb4272",
   "metadata": {},
   "source": [
    "# A/B with statified sampling"
   ]
  },
  {
   "cell_type": "code",
   "execution_count": 270,
   "id": "a03d7a7c",
   "metadata": {},
   "outputs": [
    {
     "data": {
      "application/vnd.jupyter.widget-view+json": {
       "model_id": "24a63188c32c415d9a6913a287261757",
       "version_major": 2,
       "version_minor": 0
      },
      "text/plain": [
       "  0%|          | 0/1000 [00:00<?, ?it/s]"
      ]
     },
     "metadata": {},
     "output_type": "display_data"
    },
    {
     "name": "stdout",
     "output_type": "stream",
     "text": [
      "II second type error at stratified sampling : 0.26\n"
     ]
    }
   ],
   "source": [
    "second_type_error_stratified = []\n",
    "stratified_delta_AB = []\n",
    "\n",
    "\n",
    "for i in tqdm_notebook(range(N)):\n",
    "   \n",
    "    control, treatment = get_stratified_sample(strats_param, mde)\n",
    "    pvalue, delta = ttest(control['purchases'], treatment['purchases'])\n",
    "    \n",
    "    second_type_error_stratified.append(pvalue >= alpha)\n",
    "    stratified_delta_AB.append(delta)\n",
    "                                       \n",
    "print(f'II second type error at stratified sampling : {np.mean(second_type_error_stratified)}')"
   ]
  },
  {
   "cell_type": "code",
   "execution_count": 273,
   "id": "cee9ecf5",
   "metadata": {},
   "outputs": [
    {
     "data": {
      "image/png": "[encoded data removed]",
      "text/plain": [
       "<Figure size 476.975x360 with 1 Axes>"
      ]
     },
     "metadata": {},
     "output_type": "display_data"
    }
   ],
   "source": [
    "sns.displot(\n",
    "    {'random_deltas': random_delta_AB, 'stratified_deltas': stratified_delta_AB},\n",
    "    kind='kde')\n",
    "plt.show()"
   ]
  },
  {
   "cell_type": "markdown",
   "id": "6b4f603c",
   "metadata": {},
   "source": [
    "# How we can see stratified sampling decreases I and II type errors, variance, which very well. But I type error is not controlled on claimed significance level. It is not a very good. Also our ttest do not knows we use stratified sampling instead random. To return out test to needed significance level we will be helped stratified mean"
   ]
  },
  {
   "cell_type": "code",
   "execution_count": null,
   "id": "8379802a",
   "metadata": {},
   "outputs": [],
   "source": []
  },
  {
   "cell_type": "code",
   "execution_count": null,
   "id": "243be71f",
   "metadata": {},
   "outputs": [],
   "source": []
  },
  {
   "cell_type": "code",
   "execution_count": 300,
   "id": "90e8c284",
   "metadata": {},
   "outputs": [],
   "source": [
    "def get_statified_params(df_a, df_b, weights):\n",
    "    \n",
    "    a_strat_mu = (df_a.groupby('strata')['purchases'].mean() * weights).sum()\n",
    "    b_strat_mu = (df_b.groupby('strata')['purchases'].mean() * weights).sum()\n",
    "    \n",
    "    a_strat_var = (df_a.groupby('strata')['purchases'].var() * weights).sum()\n",
    "    b_strat_var = (df_b.groupby('strata')['purchases'].var() * weights).sum() \n",
    "    \n",
    "    return a_strat_mu, a_strat_var, b_strat_mu, b_strat_var\n",
    "\n",
    "\n",
    "def stratified_ttest(df_a, df_b, weights):\n",
    "    \n",
    "    a_mu, a_var, b_mu, b_var = get_statified_params(df_a, df_b, weights)\n",
    "     \n",
    "    delta_mu = b_mu - a_mu\n",
    "    pooled_var = a_var/len(df_a) + b_var/len(df_b)\n",
    "    \n",
    "    T_statistic = delta_mu / np.sqrt(pooled_var)\n",
    "    pvalue = (1 - stats.norm.cdf(abs(T_statistic))) * 2\n",
    "    \n",
    "    return pvalue, delta_mu"
   ]
  },
  {
   "cell_type": "code",
   "execution_count": 308,
   "id": "c6cef353",
   "metadata": {},
   "outputs": [
    {
     "data": {
      "application/vnd.jupyter.widget-view+json": {
       "model_id": "b6b9b1725b3f4e8ab2cecc033279dcc1",
       "version_major": 2,
       "version_minor": 0
      },
      "text/plain": [
       "  0%|          | 0/1000 [00:00<?, ?it/s]"
      ]
     },
     "metadata": {},
     "output_type": "display_data"
    },
    {
     "name": "stdout",
     "output_type": "stream",
     "text": [
      "I second type error at stratified sampling : 0.02\n",
      "II second type error at stratified sampling : 0.256\n"
     ]
    }
   ],
   "source": [
    "first_type_errors_stratified = []\n",
    "second_type_errors_stratified = []\n",
    "stratified_delta_AA = []\n",
    "stratified_delta_AB = []\n",
    "\n",
    "weights = pd.Series({'potential' : potential_weight,\n",
    "                     'regular' : regular_weight})\n",
    "\n",
    "\n",
    "for i in tqdm_notebook(range(1000)):\n",
    "    \n",
    "    control_AA, treatment_AA = get_stratified_sample(strats_param)\n",
    "    control_AB, treatment_AB = get_stratified_sample(strats_param, mde)\n",
    "    \n",
    "    pvalue_AA, delta_AA = stratified_ttest(control_AA, treatment_AA, weights)\n",
    "    pvalue_AB, delta_AB = stratified_ttest(control_AB, treatment_AB, weights)\n",
    "    \n",
    "    first_type_errors_stratified.append(pvalue_AA < alpha)\n",
    "    second_type_errors_stratified.append(pvalue_AB >= alpha)\n",
    "    \n",
    "    stratified_delta_AA.append(delta_AA)\n",
    "    stratified_delta_AB.append(delta_AB)\n",
    "    \n",
    "print(f'I second type error at stratified sampling : {np.mean(first_type_errors_stratified)}')\n",
    "print(f'II second type error at stratified sampling : {np.mean(second_type_errors_stratified)}')"
   ]
  },
  {
   "cell_type": "markdown",
   "id": "19df37ca",
   "metadata": {},
   "source": [
    "# Summarize about stratification\n",
    "\n",
    "## Stratified sampling allows to reduce II type errors and variance. All together it increase test sensitivity and hence the test power to. I am indeed have been trying figure out why my I type error do not return to previously denoted significance level at 0.05. If our power increases we can detect more smaller minimum detectable effect (mde) or we can decrease sample size to save time is equal a money in most cases. I mean we can the reducing sample size and at saving previously claimed ed the power\n",
    "\n",
    "# All this is possible thanks to additional data. In our case we know both distribution and weight of each stratas."
   ]
  },
  {
   "cell_type": "code",
   "execution_count": null,
   "id": "9bc96138",
   "metadata": {},
   "outputs": [],
   "source": []
  },
  {
   "cell_type": "code",
   "execution_count": null,
   "id": "d48973e1",
   "metadata": {},
   "outputs": [],
   "source": []
  },
  {
   "cell_type": "code",
   "execution_count": null,
   "id": "1014ed59",
   "metadata": {},
   "outputs": [],
   "source": []
  },
  {
   "cell_type": "markdown",
   "id": "edce050d",
   "metadata": {},
   "source": [
    "# But which if, we do not know any additional information about our data? Bootstrap method will help us. It is meaning is we present sampled data as whole population and then we start random withdraw data with replacement. As a result we can estimate various statistics and  we can build a confidence intervals for them as well"
   ]
  },
  {
   "cell_type": "markdown",
   "id": "e5f934ab",
   "metadata": {},
   "source": [
    "## what i gonna do:\n",
    "\n",
    " - I take data i used previously and then random split into two groups. Then i will add an effect to one group which is equal 100\n",
    " - Further i random withdraw two samples from two groups respectively\n",
    " - Calculate needed statistics in both samples. In our case is mean\n",
    " - Figure out difference between them\n",
    " - Save the result\n",
    " - Repeat this algorithm many times\n",
    " - build confidence interval at given alpha. i use alpha is equal 0.05"
   ]
  },
  {
   "cell_type": "code",
   "execution_count": 361,
   "id": "5c8c8ced",
   "metadata": {},
   "outputs": [],
   "source": [
    "N = 10000\n",
    "\n",
    "population_mean, population_var = np.mean(pooled_data), np.var(pooled_data)\n",
    "expected_mean, expected_var = population_mean + mde, population_var\n",
    "sample_size = get_sample_size(population_var, expected_var)"
   ]
  },
  {
   "cell_type": "code",
   "execution_count": 362,
   "id": "996c12e1",
   "metadata": {},
   "outputs": [
    {
     "data": {
      "application/vnd.jupyter.widget-view+json": {
       "model_id": "634426f0c8764afd9e3fc5d92a7dc05a",
       "version_major": 2,
       "version_minor": 0
      },
      "text/plain": [
       "  0%|          | 0/10000 [00:00<?, ?it/s]"
      ]
     },
     "metadata": {},
     "output_type": "display_data"
    }
   ],
   "source": [
    "bootstrap_diff = []\n",
    "\n",
    "for i in tqdm_notebook(range(N)):\n",
    "    \n",
    "    control, treatment = np.random.choice(pooled_data['purchases'], (2, sample_size), replace=False)\n",
    "    treatment += 100\n",
    "    \n",
    "    control_mu, treatment_mu = np.mean(control), np.mean(treatment)\n",
    "    diff = treatment_mu - control_mu\n",
    "    \n",
    "    bootstrap_diff.append(diff)"
   ]
  },
  {
   "cell_type": "code",
   "execution_count": 369,
   "id": "7f5a87f5",
   "metadata": {},
   "outputs": [],
   "source": [
    "borders = np.percentile(bootstrap_diff, [2.5, 97.5])"
   ]
  },
  {
   "cell_type": "code",
   "execution_count": 382,
   "id": "28f6df48",
   "metadata": {},
   "outputs": [
    {
     "data": {
      "image/png": "[encoded data removed]",
      "text/plain": [
       "<Figure size 720x360 with 1 Axes>"
      ]
     },
     "metadata": {},
     "output_type": "display_data"
    }
   ],
   "source": [
    "plt.figure(figsize=(10,5))\n",
    "sns.distplot(bootstrap_diff)\n",
    "plt.title('Distribution of two mean difference')\n",
    "plt.vlines(np.mean(borders), ymin=0, ymax=0.01, linestyles='--', color='yellow', label='mean of difference')\n",
    "plt.vlines(borders, ymin=0, ymax=0.01, linestyles='--', color='grey', label='CI 95%')\n",
    "plt.vlines(0, ymin=0, ymax=0.01, linestyles='--', color='red', label='region of fail to reject H0')\n",
    "plt.legend()\n",
    "plt.show()"
   ]
  },
  {
   "cell_type": "markdown",
   "id": "86519f9e",
   "metadata": {},
   "source": [
    "#  Summarize about Bootstrap\n",
    "\n",
    "## As we can see, zero does not fall to our 95% confidence interval and it is meaning that we can reject H0 about of equality of means at probability of being wrong is equal alpha, i.e 5%\n",
    "\n",
    "# The main lack of that method is it is take a long time at enough big data size"
   ]
  }
 ],
 "metadata": {
  "kernelspec": {
   "display_name": "Python 3",
   "language": "python",
   "name": "python3"
  },
  "language_info": {
   "codemirror_mode": {
    "name": "ipython",
    "version": 3
   },
   "file_extension": ".py",
   "mimetype": "text/x-python",
   "name": "python",
   "nbconvert_exporter": "python",
   "pygments_lexer": "ipython3",
   "version": "3.8.8"
  }
 },
 "nbformat": 4,
 "nbformat_minor": 5
}
